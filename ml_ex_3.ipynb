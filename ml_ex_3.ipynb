{
 "cells": [
  {
   "cell_type": "code",
   "execution_count": 2,
   "metadata": {},
   "outputs": [],
   "source": [
    "import numpy as np\n",
    "import scipy as sc\n",
    "import scipy.io as sio\n",
    "import matplotlib.pyplot as plt\n",
    "\n",
    "from sklearn.linear_model import LogisticRegression, LogisticRegressionCV\n",
    "from sklearn.metrics import classification_report\n",
    "\n",
    "%matplotlib inline"
   ]
  },
  {
   "cell_type": "code",
   "execution_count": 3,
   "metadata": {},
   "outputs": [
    {
     "name": "stdout",
     "output_type": "stream",
     "text": [
      "X shape (5000, 400)\n",
      "y shape (5000,)\n"
     ]
    }
   ],
   "source": [
    "# load data from .mat file\n",
    "digit = sio.loadmat('data/ml-ex3/ex3data1.mat')\n",
    "\n",
    "# handwritten digits (5000 x 400) dimensional\n",
    "X = digit['X']\n",
    "\n",
    "# labels for each digit with 0 classified as 10\n",
    "y = digit['y'].ravel()\n",
    "\n",
    "print(\"X shape {}\".format(X.shape))\n",
    "print(\"y shape {}\".format(y.shape))"
   ]
  },
  {
   "cell_type": "code",
   "execution_count": 4,
   "metadata": {},
   "outputs": [
    {
     "data": {
      "image/png": "[encoded data removed]",
      "text/plain": [
       "<Figure size 216x720 with 30 Axes>"
      ]
     },
     "metadata": {},
     "output_type": "display_data"
    }
   ],
   "source": [
    "# plot some handwritten numbers from the mat file\n",
    "rows = 10\n",
    "cols = 3\n",
    "\n",
    "sel = np.linspace(0, X.shape[0] - 1, rows * cols, dtype='int16')\n",
    "\n",
    "plt.figure(figsize=(cols, rows))\n",
    "plt.subplots_adjust(hspace=.4)\n",
    "\n",
    "\n",
    "for i, idx in enumerate(sel):\n",
    "    plt.subplot(rows, cols, i + 1)\n",
    "    plt.imshow(X[idx].reshape((20, 20), order='F'), cmap=plt.cm.gray)\n",
    "    plt.title(\"{}\".format(y[idx]))\n",
    "    plt.xticks(())\n",
    "    plt.yticks(())"
   ]
  },
  {
   "cell_type": "code",
   "execution_count": 7,
   "metadata": {},
   "outputs": [
    {
     "name": "stderr",
     "output_type": "stream",
     "text": [
      "//anaconda3/lib/python3.7/site-packages/sklearn/linear_model/logistic.py:469: FutureWarning: Default multi_class will be changed to 'auto' in 0.22. Specify the multi_class option to silence this warning.\n",
      "  \"this warning.\", FutureWarning)\n"
     ]
    },
    {
     "data": {
      "text/plain": [
       "LogisticRegression(C=1.0, class_weight=None, dual=False, fit_intercept=True,\n",
       "                   intercept_scaling=1, l1_ratio=None, max_iter=100,\n",
       "                   multi_class='warn', n_jobs=None, penalty='l2',\n",
       "                   random_state=None, solver='newton-cg', tol=0.0001, verbose=0,\n",
       "                   warm_start=False)"
      ]
     },
     "execution_count": 7,
     "metadata": {},
     "output_type": "execute_result"
    }
   ],
   "source": [
    "# logistic regression classifier.\n",
    "# With C=1.0, Inverse of regularization strength; must be a positive float. \n",
    "# Like in support vector machines, smaller values specify stronger regularization.\n",
    "\n",
    "lg_clf = LogisticRegression(C=1.0, solver='newton-cg')\n",
    "lg_clf.fit(X,y)"
   ]
  },
  {
   "cell_type": "code",
   "execution_count": 8,
   "metadata": {},
   "outputs": [
    {
     "data": {
      "text/plain": [
       "0.9446"
      ]
     },
     "execution_count": 8,
     "metadata": {},
     "output_type": "execute_result"
    }
   ],
   "source": [
    "lg_clf.score(X, y)"
   ]
  },
  {
   "cell_type": "code",
   "execution_count": 14,
   "metadata": {},
   "outputs": [
    {
     "name": "stderr",
     "output_type": "stream",
     "text": [
      "//anaconda3/lib/python3.7/site-packages/sklearn/linear_model/logistic.py:469: FutureWarning: Default multi_class will be changed to 'auto' in 0.22. Specify the multi_class option to silence this warning.\n",
      "  \"this warning.\", FutureWarning)\n",
      "//anaconda3/lib/python3.7/site-packages/sklearn/model_selection/_split.py:1978: FutureWarning: The default value of cv will change from 3 to 5 in version 0.22. Specify it explicitly to silence this warning.\n",
      "  warnings.warn(CV_WARNING, FutureWarning)\n"
     ]
    },
    {
     "data": {
      "text/plain": [
       "LogisticRegressionCV(Cs=[0.1, 1.0, 2.0, 3.0, 4.0, 5.0, 6.0, 10.0],\n",
       "                     class_weight=None, cv='warn', dual=False,\n",
       "                     fit_intercept=True, intercept_scaling=1.0, l1_ratios=None,\n",
       "                     max_iter=100, multi_class='warn', n_jobs=None,\n",
       "                     penalty='l2', random_state=None, refit=True, scoring=None,\n",
       "                     solver='newton-cg', tol=0.0001, verbose=0)"
      ]
     },
     "execution_count": 14,
     "metadata": {},
     "output_type": "execute_result"
    }
   ],
   "source": [
    "# For the grid of Cs values and l1_ratios values, \n",
    "# the best hyperparameter is selected by the cross-validator \n",
    "# StratifiedKFold, but it can be changed using the cv parameter.\n",
    "# selecting the best C value\n",
    "lgcv_clf = LogisticRegressionCV(Cs=[1e-1, 1e0,2e0,3e0,4e0,5e0,6e0, 1e1], solver='newton-cg')\n",
    "lgcv_clf.fit(X, y)"
   ]
  },
  {
   "cell_type": "code",
   "execution_count": 15,
   "metadata": {},
   "outputs": [
    {
     "data": {
      "text/plain": [
       "0.9438"
      ]
     },
     "execution_count": 15,
     "metadata": {},
     "output_type": "execute_result"
    }
   ],
   "source": [
    "lgcv_clf.score(X, y)"
   ]
  },
  {
   "cell_type": "markdown",
   "metadata": {},
   "source": [
    "# Neural Net"
   ]
  },
  {
   "cell_type": "code",
   "execution_count": 18,
   "metadata": {},
   "outputs": [
    {
     "name": "stdout",
     "output_type": "stream",
     "text": [
      "theta 1 shape --> (25, 401)\n",
      "theta 2 shape --> (10, 26)\n"
     ]
    }
   ],
   "source": [
    "# Load the weights of the pretrained network\n",
    "weights = sio.loadmat('data/ml-ex3/ex3weights.mat')\n",
    "\n",
    "theta1 = weights['Theta1']\n",
    "theta2 = weights['Theta2']\n",
    "\n",
    "print(\"theta 1 shape --> {}\".format(theta1.shape))\n",
    "print(\"theta 2 shape --> {}\".format(theta2.shape))"
   ]
  },
  {
   "cell_type": "code",
   "execution_count": 21,
   "metadata": {},
   "outputs": [
    {
     "data": {
      "text/plain": [
       "<ufunc 'expit'>"
      ]
     },
     "execution_count": 21,
     "metadata": {},
     "output_type": "execute_result"
    }
   ],
   "source": [
    "# no of examples\n",
    "n_ex = X.shape[0]\n",
    "\n",
    "# sigmopid func\n",
    "sigmoid = sc.special.expit\n",
    "\n",
    "sigmoid"
   ]
  },
  {
   "cell_type": "code",
   "execution_count": 24,
   "metadata": {},
   "outputs": [],
   "source": [
    "# build the network\n",
    "# create the input layer from X\n",
    "inp_ = np.c_[np.ones(n_ex), X]\n",
    "\n",
    "# hidden layer\n",
    "z_h = inp_.dot(theta1.T)\n",
    "a_h = np.c_[np.ones(n_ex), sigmoid(z_h)]\n",
    "\n",
    "# output layer\n",
    "z_o = a_h.dot(theta2.T)\n",
    "a_o = sigmoid(z_o)"
   ]
  },
  {
   "cell_type": "code",
   "execution_count": 27,
   "metadata": {},
   "outputs": [],
   "source": [
    "# argmaxx to get predicted class\n",
    "y_pred = np.argmax(a_o, axis=1) + 1"
   ]
  },
  {
   "cell_type": "code",
   "execution_count": 28,
   "metadata": {},
   "outputs": [
    {
     "name": "stdout",
     "output_type": "stream",
     "text": [
      "              precision    recall  f1-score   support\n",
      "\n",
      "           1     0.9684    0.9820    0.9752       500\n",
      "           2     0.9818    0.9700    0.9759       500\n",
      "           3     0.9776    0.9600    0.9687       500\n",
      "           4     0.9699    0.9680    0.9690       500\n",
      "           5     0.9723    0.9840    0.9781       500\n",
      "           6     0.9782    0.9860    0.9821       500\n",
      "           7     0.9778    0.9700    0.9739       500\n",
      "           8     0.9781    0.9820    0.9800       500\n",
      "           9     0.9657    0.9580    0.9618       500\n",
      "          10     0.9822    0.9920    0.9871       500\n",
      "\n",
      "    accuracy                         0.9752      5000\n",
      "   macro avg     0.9752    0.9752    0.9752      5000\n",
      "weighted avg     0.9752    0.9752    0.9752      5000\n",
      "\n"
     ]
    }
   ],
   "source": [
    "# get classification report\n",
    "print(classification_report(y, y_pred, target_names=['1','2','3','4','5','6','7','8','9','10'], digits=4))"
   ]
  },
  {
   "cell_type": "code",
   "execution_count": null,
   "metadata": {},
   "outputs": [],
   "source": []
  }
 ],
 "metadata": {
  "kernelspec": {
   "display_name": "Python 3",
   "language": "python",
   "name": "python3"
  },
  "language_info": {
   "codemirror_mode": {
    "name": "ipython",
    "version": 3
   },
   "file_extension": ".py",
   "mimetype": "text/x-python",
   "name": "python",
   "nbconvert_exporter": "python",
   "pygments_lexer": "ipython3",
   "version": "3.7.3"
  }
 },
 "nbformat": 4,
 "nbformat_minor": 2
}
