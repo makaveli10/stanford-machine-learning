{
  "nbformat": 4,
  "nbformat_minor": 0,
  "metadata": {
    "colab": {
      "name": "ml_ex_1.ipynb",
      "provenance": [],
      "collapsed_sections": []
    },
    "kernelspec": {
      "name": "python3",
      "display_name": "Python 3"
    }
  },
  "cells": [
    {
      "cell_type": "code",
      "metadata": {
        "id": "3eSAyZHWJE6_",
        "colab_type": "code",
        "colab": {}
      },
      "source": [
        "import numpy as np\n",
        "import pandas as pd\n",
        "import matplotlib.pyplot as plt\n",
        "import matplotlib.ticker as ticker\n",
        "\n",
        "from mpl_toolkits.mplot3d import Axes3D\n",
        "from sklearn.linear_model import LinearRegression\n",
        "from sklearn.pipeline import Pipeline\n",
        "from sklearn.preprocessing import StandardScaler\n",
        "\n",
        "%matplotlib inline"
      ],
      "execution_count": 0,
      "outputs": []
    },
    {
      "cell_type": "code",
      "metadata": {
        "id": "zlil6SM7KFDb",
        "colab_type": "code",
        "colab": {
          "base_uri": "https://localhost:8080/",
          "height": 198
        },
        "outputId": "cea7486a-9503-4132-9fa8-3d9e7a2b2a06"
      },
      "source": [
        "df = pd.read_csv('ex1data1.txt', sep=\",\")\n",
        "df.columns = [\"population\", \"profit\"]\n",
        "df.head()"
      ],
      "execution_count": 5,
      "outputs": [
        {
          "output_type": "execute_result",
          "data": {
            "text/html": [
              "<div>\n",
              "<style scoped>\n",
              "    .dataframe tbody tr th:only-of-type {\n",
              "        vertical-align: middle;\n",
              "    }\n",
              "\n",
              "    .dataframe tbody tr th {\n",
              "        vertical-align: top;\n",
              "    }\n",
              "\n",
              "    .dataframe thead th {\n",
              "        text-align: right;\n",
              "    }\n",
              "</style>\n",
              "<table border=\"1\" class=\"dataframe\">\n",
              "  <thead>\n",
              "    <tr style=\"text-align: right;\">\n",
              "      <th></th>\n",
              "      <th>population</th>\n",
              "      <th>profit</th>\n",
              "    </tr>\n",
              "  </thead>\n",
              "  <tbody>\n",
              "    <tr>\n",
              "      <th>0</th>\n",
              "      <td>5.5277</td>\n",
              "      <td>9.1302</td>\n",
              "    </tr>\n",
              "    <tr>\n",
              "      <th>1</th>\n",
              "      <td>8.5186</td>\n",
              "      <td>13.6620</td>\n",
              "    </tr>\n",
              "    <tr>\n",
              "      <th>2</th>\n",
              "      <td>7.0032</td>\n",
              "      <td>11.8540</td>\n",
              "    </tr>\n",
              "    <tr>\n",
              "      <th>3</th>\n",
              "      <td>5.8598</td>\n",
              "      <td>6.8233</td>\n",
              "    </tr>\n",
              "    <tr>\n",
              "      <th>4</th>\n",
              "      <td>8.3829</td>\n",
              "      <td>11.8860</td>\n",
              "    </tr>\n",
              "  </tbody>\n",
              "</table>\n",
              "</div>"
            ],
            "text/plain": [
              "   population   profit\n",
              "0      5.5277   9.1302\n",
              "1      8.5186  13.6620\n",
              "2      7.0032  11.8540\n",
              "3      5.8598   6.8233\n",
              "4      8.3829  11.8860"
            ]
          },
          "metadata": {
            "tags": []
          },
          "execution_count": 5
        }
      ]
    },
    {
      "cell_type": "code",
      "metadata": {
        "id": "t0o5OZkFKNtR",
        "colab_type": "code",
        "colab": {
          "base_uri": "https://localhost:8080/",
          "height": 35
        },
        "outputId": "c48acb9f-2fa8-4edd-87b0-e265212ccc37"
      },
      "source": [
        "data = df.values\n",
        "type(data)"
      ],
      "execution_count": 6,
      "outputs": [
        {
          "output_type": "execute_result",
          "data": {
            "text/plain": [
              "numpy.ndarray"
            ]
          },
          "metadata": {
            "tags": []
          },
          "execution_count": 6
        }
      ]
    },
    {
      "cell_type": "markdown",
      "metadata": {
        "id": "erS_bVDyLF3Q",
        "colab_type": "text"
      },
      "source": [
        "**Separate feature and target columns**\n",
        "\n",
        "[numpy horizontal split](https://docs.scipy.org/doc/numpy/reference/generated/numpy.hsplit.html)"
      ]
    },
    {
      "cell_type": "code",
      "metadata": {
        "id": "1y5pSFl2K7EQ",
        "colab_type": "code",
        "colab": {
          "base_uri": "https://localhost:8080/",
          "height": 52
        },
        "outputId": "bb5ed59f-dcbd-4d82-c46d-5819204191cb"
      },
      "source": [
        "X, y = np.hsplit(data, 2)\n",
        "print(\"shape of feature vector X--->\" + str(X.shape))\n",
        "print(\"shape of target vector y --->\" + str(y.shape))"
      ],
      "execution_count": 7,
      "outputs": [
        {
          "output_type": "stream",
          "text": [
            "shape of feature vector X--->(96, 1)\n",
            "shape of target vector y --->(96, 1)\n"
          ],
          "name": "stdout"
        }
      ]
    },
    {
      "cell_type": "code",
      "metadata": {
        "id": "TGCTduNSLwjT",
        "colab_type": "code",
        "colab": {}
      },
      "source": [
        "m = y.shape[0]\n",
        "model = LinearRegression()"
      ],
      "execution_count": 0,
      "outputs": []
    },
    {
      "cell_type": "code",
      "metadata": {
        "id": "PkV2sTqxL-py",
        "colab_type": "code",
        "colab": {
          "base_uri": "https://localhost:8080/",
          "height": 35
        },
        "outputId": "1ab3c1f1-c437-43ab-e323-99f5e39b630f"
      },
      "source": [
        "model.fit(X, y)"
      ],
      "execution_count": 9,
      "outputs": [
        {
          "output_type": "execute_result",
          "data": {
            "text/plain": [
              "LinearRegression(copy_X=True, fit_intercept=True, n_jobs=None, normalize=False)"
            ]
          },
          "metadata": {
            "tags": []
          },
          "execution_count": 9
        }
      ]
    },
    {
      "cell_type": "code",
      "metadata": {
        "id": "7wyjw6r2MHEz",
        "colab_type": "code",
        "colab": {
          "base_uri": "https://localhost:8080/",
          "height": 35
        },
        "outputId": "b30d6f96-84ac-42ea-9c39-358f043cf6bd"
      },
      "source": [
        "# Get the coefficients\n",
        "theta0, theta1 = model.intercept_, model.coef_\n",
        "theta0, theta1"
      ],
      "execution_count": 10,
      "outputs": [
        {
          "output_type": "execute_result",
          "data": {
            "text/plain": [
              "(array([-4.21150401]), array([[1.21354725]]))"
            ]
          },
          "metadata": {
            "tags": []
          },
          "execution_count": 10
        }
      ]
    },
    {
      "cell_type": "code",
      "metadata": {
        "id": "yxMY4hvmPIdG",
        "colab_type": "code",
        "colab": {
          "base_uri": "https://localhost:8080/",
          "height": 300
        },
        "outputId": "e05b6aa1-4781-4af7-a201-1e25fe11a6f0"
      },
      "source": [
        "# plot the data points and result\n",
        "plt.plot(X, y, 'rx', label='Data')\n",
        "plt.plot(X, model.predict(X), 'b-', label='regression')\n",
        "plt.xlabel('Population')\n",
        "plt.ylabel('Profit')\n",
        "plt.legend()"
      ],
      "execution_count": 13,
      "outputs": [
        {
          "output_type": "execute_result",
          "data": {
            "text/plain": [
              "<matplotlib.legend.Legend at 0x7f7fd6b3ac18>"
            ]
          },
          "metadata": {
            "tags": []
          },
          "execution_count": 13
        },
        {
          "output_type": "display_data",
          "data": {
            "image/png": "[encoded data removed]",
            "text/plain": [
              "<Figure size 432x288 with 1 Axes>"
            ]
          },
          "metadata": {
            "tags": []
          }
        }
      ]
    },
    {
      "cell_type": "code",
      "metadata": {
        "id": "dTYhOH59P51s",
        "colab_type": "code",
        "colab": {
          "base_uri": "https://localhost:8080/",
          "height": 52
        },
        "outputId": "b69fc8cd-f92c-416f-8871-9bcb2fec743a"
      },
      "source": [
        "# calculate training MSE and model score\n",
        "mse = np.mean((model.predict(X) - y) ** 2)\n",
        "score = model.score(X, y)\n",
        "print(\"MSE ===>\" + str(mse))\n",
        "print(\"score ===>\" + str(score))"
      ],
      "execution_count": 15,
      "outputs": [
        {
          "output_type": "stream",
          "text": [
            "MSE ===>6.919163806316008\n",
            "score ===>0.7606583419339847\n"
          ],
          "name": "stdout"
        }
      ]
    },
    {
      "cell_type": "code",
      "metadata": {
        "id": "W12GITSrQcUM",
        "colab_type": "code",
        "colab": {
          "base_uri": "https://localhost:8080/",
          "height": 35
        },
        "outputId": "6b61fb58-b7e8-49e6-90f8-7a2667a8a3d9"
      },
      "source": [
        "# LinearRegression above internally added a column vector of 1s.\n",
        "# For the following calculations, this must be done explicitly.\n",
        "X = np.c_[np.ones(m), X]\n",
        "X.shape"
      ],
      "execution_count": 16,
      "outputs": [
        {
          "output_type": "execute_result",
          "data": {
            "text/plain": [
              "(96, 2)"
            ]
          },
          "metadata": {
            "tags": []
          },
          "execution_count": 16
        }
      ]
    },
    {
      "cell_type": "markdown",
      "metadata": {
        "id": "28ZC5GtITCt3",
        "colab_type": "text"
      },
      "source": [
        "**Least Squares**\n",
        "\n",
        "Refer to [this](https://docs.scipy.org/doc/numpy/reference/generated/numpy.linalg.lstsq.html)  for more information on numpy least squares"
      ]
    },
    {
      "cell_type": "code",
      "metadata": {
        "id": "Bm4LEyBkSpPk",
        "colab_type": "code",
        "colab": {
          "base_uri": "https://localhost:8080/",
          "height": 124
        },
        "outputId": "a7ed7262-b57e-4575-9a54-6a2d41ca1cce"
      },
      "source": [
        "# This is what happens in Linear Regression\n",
        "theta = np.linalg.lstsq(X, y)[0]\n",
        "theta"
      ],
      "execution_count": 20,
      "outputs": [
        {
          "output_type": "stream",
          "text": [
            "/usr/local/lib/python3.6/dist-packages/ipykernel_launcher.py:1: FutureWarning: `rcond` parameter will change to the default of machine precision times ``max(M, N)`` where M and N are the input matrix dimensions.\n",
            "To use the future default and silence this warning we advise to pass `rcond=None`, to keep using the old, explicitly pass `rcond=-1`.\n",
            "  \"\"\"Entry point for launching an IPython kernel.\n"
          ],
          "name": "stderr"
        },
        {
          "output_type": "execute_result",
          "data": {
            "text/plain": [
              "array([[-4.21150401],\n",
              "       [ 1.21354725]])"
            ]
          },
          "metadata": {
            "tags": []
          },
          "execution_count": 20
        }
      ]
    },
    {
      "cell_type": "code",
      "metadata": {
        "id": "PhY7hS1ITdQm",
        "colab_type": "code",
        "colab": {
          "base_uri": "https://localhost:8080/",
          "height": 52
        },
        "outputId": "a0cc0c0e-3693-4aaf-b8ea-5d15f748ef8d"
      },
      "source": [
        "theta = np.linalg.solve(X.T.dot(X), X.T.dot(y))\n",
        "theta"
      ],
      "execution_count": 21,
      "outputs": [
        {
          "output_type": "execute_result",
          "data": {
            "text/plain": [
              "array([[-4.21150401],\n",
              "       [ 1.21354725]])"
            ]
          },
          "metadata": {
            "tags": []
          },
          "execution_count": 21
        }
      ]
    },
    {
      "cell_type": "code",
      "metadata": {
        "id": "W4QNzSYTT4ev",
        "colab_type": "code",
        "colab": {
          "base_uri": "https://localhost:8080/",
          "height": 52
        },
        "outputId": "2ffb1816-6070-4e05-8218-6e9b1e41e8f7"
      },
      "source": [
        "# with explicit inverse\n",
        "theta = np.linalg.inv(X.T.dot(X)).dot(X.T).dot(y)\n",
        "theta"
      ],
      "execution_count": 23,
      "outputs": [
        {
          "output_type": "execute_result",
          "data": {
            "text/plain": [
              "array([[-4.21150401],\n",
              "       [ 1.21354725]])"
            ]
          },
          "metadata": {
            "tags": []
          },
          "execution_count": 23
        }
      ]
    },
    {
      "cell_type": "code",
      "metadata": {
        "id": "DpTTl1RtUGAQ",
        "colab_type": "code",
        "colab": {}
      },
      "source": [
        "# Cost function MSE\n",
        "def cost(X, y, theta):\n",
        "    diff = X.dot(theta) - y\n",
        "    return np.sum(diff * diff, axis=0) / y.size"
      ],
      "execution_count": 0,
      "outputs": []
    },
    {
      "cell_type": "code",
      "metadata": {
        "id": "LZiYj6iVUpu5",
        "colab_type": "code",
        "colab": {
          "base_uri": "https://localhost:8080/",
          "height": 312
        },
        "outputId": "85753ea5-bbb0-4d22-c89c-242eb1218449"
      },
      "source": [
        "# Create a 50*50 grid for Theta0 and Theta1 ranges\n",
        "grid = np.mgrid[-10:10:50j, -1:4:50j]\n",
        "\n",
        "# Theta values in an array of shape (2500,2)\n",
        "Thetas = np.c_[grid[0].ravel(), grid[1].ravel()]\n",
        "\n",
        "# compute costs on the theta grid\n",
        "cost_ = cost(X, y, Thetas.T)\n",
        "\n",
        "# cost values reshape to grid\n",
        "cost_grid = cost_.reshape(grid[0].shape)\n",
        "\n",
        "plt.contour(grid[0], grid[1], cost_grid, levels=[20, 40, 80, 160, 320, 640, 1280])\n",
        "\n",
        "# Plot optmimum\n",
        "plt.plot(theta[0], theta[1], 'rx')\n",
        "\n",
        "# Title and axis labels\n",
        "plt.xlabel('Theta0')\n",
        "plt.xlabel('Theta1')\n",
        "plt.title('Cost function')"
      ],
      "execution_count": 28,
      "outputs": [
        {
          "output_type": "execute_result",
          "data": {
            "text/plain": [
              "Text(0.5, 1.0, 'Cost function')"
            ]
          },
          "metadata": {
            "tags": []
          },
          "execution_count": 28
        },
        {
          "output_type": "display_data",
          "data": {
            "image/png": "[encoded data removed]",
            "text/plain": [
              "<Figure size 432x288 with 1 Axes>"
            ]
          },
          "metadata": {
            "tags": []
          }
        }
      ]
    },
    {
      "cell_type": "markdown",
      "metadata": {
        "id": "Nc0D8RYAYD7t",
        "colab_type": "text"
      },
      "source": [
        "# Linear Regression with multiple variables\n",
        "\n"
      ]
    },
    {
      "cell_type": "code",
      "metadata": {
        "id": "n0t3xtF7YOTF",
        "colab_type": "code",
        "colab": {
          "base_uri": "https://localhost:8080/",
          "height": 35
        },
        "outputId": "5c88401b-8cd5-43a2-c32d-80fcd88fccc7"
      },
      "source": [
        "!ls"
      ],
      "execution_count": 29,
      "outputs": [
        {
          "output_type": "stream",
          "text": [
            "ex1data1.txt  ex1data2.txt  sample_data\n"
          ],
          "name": "stdout"
        }
      ]
    },
    {
      "cell_type": "code",
      "metadata": {
        "id": "b8t_cfM0WUbZ",
        "colab_type": "code",
        "colab": {
          "base_uri": "https://localhost:8080/",
          "height": 198
        },
        "outputId": "5f20de41-bd26-4598-df3f-a14e5298ed3a"
      },
      "source": [
        "df_ = pd.read_csv('ex1data2.txt', sep=',')\n",
        "df_.columns = ['size' , 'number_of_bedrooms', 'price']\n",
        "df_.head()"
      ],
      "execution_count": 30,
      "outputs": [
        {
          "output_type": "execute_result",
          "data": {
            "text/html": [
              "<div>\n",
              "<style scoped>\n",
              "    .dataframe tbody tr th:only-of-type {\n",
              "        vertical-align: middle;\n",
              "    }\n",
              "\n",
              "    .dataframe tbody tr th {\n",
              "        vertical-align: top;\n",
              "    }\n",
              "\n",
              "    .dataframe thead th {\n",
              "        text-align: right;\n",
              "    }\n",
              "</style>\n",
              "<table border=\"1\" class=\"dataframe\">\n",
              "  <thead>\n",
              "    <tr style=\"text-align: right;\">\n",
              "      <th></th>\n",
              "      <th>size</th>\n",
              "      <th>number_of_bedrooms</th>\n",
              "      <th>price</th>\n",
              "    </tr>\n",
              "  </thead>\n",
              "  <tbody>\n",
              "    <tr>\n",
              "      <th>0</th>\n",
              "      <td>1600</td>\n",
              "      <td>3</td>\n",
              "      <td>329900</td>\n",
              "    </tr>\n",
              "    <tr>\n",
              "      <th>1</th>\n",
              "      <td>2400</td>\n",
              "      <td>3</td>\n",
              "      <td>369000</td>\n",
              "    </tr>\n",
              "    <tr>\n",
              "      <th>2</th>\n",
              "      <td>1416</td>\n",
              "      <td>2</td>\n",
              "      <td>232000</td>\n",
              "    </tr>\n",
              "    <tr>\n",
              "      <th>3</th>\n",
              "      <td>3000</td>\n",
              "      <td>4</td>\n",
              "      <td>539900</td>\n",
              "    </tr>\n",
              "    <tr>\n",
              "      <th>4</th>\n",
              "      <td>1985</td>\n",
              "      <td>4</td>\n",
              "      <td>299900</td>\n",
              "    </tr>\n",
              "  </tbody>\n",
              "</table>\n",
              "</div>"
            ],
            "text/plain": [
              "   size  number_of_bedrooms   price\n",
              "0  1600                   3  329900\n",
              "1  2400                   3  369000\n",
              "2  1416                   2  232000\n",
              "3  3000                   4  539900\n",
              "4  1985                   4  299900"
            ]
          },
          "metadata": {
            "tags": []
          },
          "execution_count": 30
        }
      ]
    },
    {
      "cell_type": "code",
      "metadata": {
        "id": "J97sHewcZAl5",
        "colab_type": "code",
        "colab": {
          "base_uri": "https://localhost:8080/",
          "height": 52
        },
        "outputId": "cd52bd6c-e3de-4d2f-c4de-104b5741783b"
      },
      "source": [
        "# split data\n",
        "data = df_.values\n",
        "X, y = np.hsplit(data, np.array([2]))\n",
        "print(X.shape)\n",
        "print(y.shape)"
      ],
      "execution_count": 33,
      "outputs": [
        {
          "output_type": "stream",
          "text": [
            "(46, 2)\n",
            "(46, 1)\n"
          ],
          "name": "stdout"
        }
      ]
    },
    {
      "cell_type": "code",
      "metadata": {
        "id": "yxnRrG1vZ6RI",
        "colab_type": "code",
        "colab": {}
      },
      "source": [
        "scaler = StandardScaler()\n",
        "regressor = LinearRegression()\n",
        "\n",
        "model = Pipeline([('scaler', scaler), ('regressor', regressor)])"
      ],
      "execution_count": 0,
      "outputs": []
    },
    {
      "cell_type": "code",
      "metadata": {
        "id": "L9TvRqDQaTAw",
        "colab_type": "code",
        "colab": {
          "base_uri": "https://localhost:8080/",
          "height": 138
        },
        "outputId": "743af3b2-3a5e-496d-b3b8-c61f13342114"
      },
      "source": [
        "model.fit(X, y)"
      ],
      "execution_count": 36,
      "outputs": [
        {
          "output_type": "execute_result",
          "data": {
            "text/plain": [
              "Pipeline(memory=None,\n",
              "         steps=[('scaler',\n",
              "                 StandardScaler(copy=True, with_mean=True, with_std=True)),\n",
              "                ('regressor',\n",
              "                 LinearRegression(copy_X=True, fit_intercept=True, n_jobs=None,\n",
              "                                  normalize=False))],\n",
              "         verbose=False)"
            ]
          },
          "metadata": {
            "tags": []
          },
          "execution_count": 36
        }
      ]
    },
    {
      "cell_type": "code",
      "metadata": {
        "id": "cYSJBqW5cYU7",
        "colab_type": "code",
        "colab": {
          "base_uri": "https://localhost:8080/",
          "height": 574
        },
        "outputId": "7bb6fe6c-ca0b-4adf-d663-3c06be379154"
      },
      "source": [
        "# min and max values for grid range\n",
        "range_grid = np.vstack([X.min(axis=0), X.max(axis=0)])\n",
        "grid = np.meshgrid(range_grid[:, 0], range_grid[:, 1])\n",
        "\n",
        "# Compute predictions from grid values\n",
        "X_grid = np.c_[grid[0].ravel(), grid[1].ravel()]\n",
        "y_grid = model.predict(X_grid).reshape(grid[0].shape)\n",
        "\n",
        "def plot_data_and_regression(fig, fignum, view_angle):\n",
        "    sp = fig.add_subplot(2, 1, fignum, projection='3d')\n",
        "    sp.view_init(view_angle, 90)\n",
        "    sp.set_xlabel('Square feet')\n",
        "    sp.set_ylabel('Bedrooms')\n",
        "    sp.set_zlabel('Price')\n",
        "    sp.set_title(f'angle = {view_angle}')\n",
        "    # customise tick locators\n",
        "    sp.yaxis.set_major_locator(ticker.MultipleLocator(1.00))\n",
        "    sp.zaxis.set_major_locator(ticker.MultipleLocator(200000))\n",
        "\n",
        "    # plot examples\n",
        "    sp.scatter(X[:,0], X[:,1], y)\n",
        "    # Plot regression area\n",
        "    sp.plot_surface(grid[0], grid[1], y_grid, color='y', alpha=0.2)\n",
        "\n",
        "fig = plt.figure(2, figsize=[9, 10])\n",
        "\n",
        "# Plot data and regression from two different angles\n",
        "plot_data_and_regression(fig, fignum=1, view_angle=20)\n",
        "plot_data_and_regression(fig, fignum=2, view_angle=75)"
      ],
      "execution_count": 45,
      "outputs": [
        {
          "output_type": "display_data",
          "data": {
            "image/png": "[encoded data removed]",
            "text/plain": [
              "<Figure size 648x720 with 2 Axes>"
            ]
          },
          "metadata": {
            "tags": []
          }
        }
      ]
    },
    {
      "cell_type": "code",
      "metadata": {
        "id": "gzw8KyfkaYml",
        "colab_type": "code",
        "colab": {
          "base_uri": "https://localhost:8080/",
          "height": 52
        },
        "outputId": "4dc81985-21f6-448f-be0d-7b84b56a00df"
      },
      "source": [
        "# training mse and score\n",
        "mse = np.mean((model.predict(X) - y) ** 2)\n",
        "score = model.score(X, y)\n",
        "print(\"mse ====> \"+ str(mse))\n",
        "print(\"score ===>\" + str(score))"
      ],
      "execution_count": 47,
      "outputs": [
        {
          "output_type": "stream",
          "text": [
            "mse ====> 4133005563.4236116\n",
            "score ===>0.7343207791741682\n"
          ],
          "name": "stdout"
        }
      ]
    },
    {
      "cell_type": "code",
      "metadata": {
        "id": "jswkFIYIcS72",
        "colab_type": "code",
        "colab": {}
      },
      "source": [
        "# solve anlytically \n",
        "m = y.size\n",
        "X = np.c_[np.ones(m), X]"
      ],
      "execution_count": 0,
      "outputs": []
    },
    {
      "cell_type": "code",
      "metadata": {
        "id": "xiGJ4zW2cV5X",
        "colab_type": "code",
        "colab": {
          "base_uri": "https://localhost:8080/",
          "height": 69
        },
        "outputId": "857aacbc-3d4d-4407-c427-406e65f49d74"
      },
      "source": [
        "theta = np.linalg.solve(X.T.dot(X), X.T.dot(y))\n",
        "theta"
      ],
      "execution_count": 51,
      "outputs": [
        {
          "output_type": "execute_result",
          "data": {
            "text/plain": [
              "array([[87807.75019324],\n",
              "       [  138.75587842],\n",
              "       [-8186.38287595]])"
            ]
          },
          "metadata": {
            "tags": []
          },
          "execution_count": 51
        }
      ]
    },
    {
      "cell_type": "code",
      "metadata": {
        "id": "MRMYLQS7h-Ar",
        "colab_type": "code",
        "colab": {
          "base_uri": "https://localhost:8080/",
          "height": 69
        },
        "outputId": "4a5f357d-50a6-4d80-9969-080d2cb2ee07"
      },
      "source": [
        "# Solve normal equation (explicit pseudo-inverse)\n",
        "theta = np.linalg.pinv(X.T.dot(X)).dot(X.T).dot(y)\n",
        "theta"
      ],
      "execution_count": 52,
      "outputs": [
        {
          "output_type": "execute_result",
          "data": {
            "text/plain": [
              "array([[87807.75019149],\n",
              "       [  138.75587842],\n",
              "       [-8186.38287541]])"
            ]
          },
          "metadata": {
            "tags": []
          },
          "execution_count": 52
        }
      ]
    },
    {
      "cell_type": "code",
      "metadata": {
        "id": "qapUmZG_izIN",
        "colab_type": "code",
        "colab": {
          "base_uri": "https://localhost:8080/",
          "height": 35
        },
        "outputId": "3e439241-a835-43f1-82ab-fc16f0a50fa1"
      },
      "source": [
        "cost(X,y, theta)"
      ],
      "execution_count": 54,
      "outputs": [
        {
          "output_type": "execute_result",
          "data": {
            "text/plain": [
              "array([4.13300556e+09])"
            ]
          },
          "metadata": {
            "tags": []
          },
          "execution_count": 54
        }
      ]
    }
  ]
}